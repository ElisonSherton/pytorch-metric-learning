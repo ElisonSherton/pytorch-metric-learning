{
 "cells": [
  {
   "cell_type": "markdown",
   "metadata": {
    "id": "f-1bIqrdFKiH"
   },
   "source": [
    "# PyTorch Metric Learning\n",
    "### Example for the DeepAdversarialMetricLearning trainer\n",
    "See the documentation [here](https://kevinmusgrave.github.io/pytorch-metric-learning/)"
   ]
  },
  {
   "cell_type": "markdown",
   "metadata": {
    "id": "MKpRHvy24tV7"
   },
   "source": [
    "## Install the necessary packages"
   ]
  },
  {
   "cell_type": "code",
   "execution_count": null,
   "metadata": {
    "colab": {
     "base_uri": "https://localhost:8080/",
     "height": 87
    },
    "id": "ZeIGxbbp3W2S",
    "outputId": "ae98f82a-68d7-46fe-8d3a-30f0c83b59cb"
   },
   "outputs": [],
   "source": [
    "!pip install -q pytorch-metric-learning[with-hooks]\n",
    "!pip install umap-learn"
   ]
  },
  {
   "cell_type": "markdown",
   "metadata": {
    "id": "BfqRRbIw4zYR"
   },
   "source": [
    "## Import the packages"
   ]
  },
  {
   "cell_type": "code",
   "execution_count": null,
   "metadata": {
    "colab": {
     "base_uri": "https://localhost:8080/",
     "height": 35
    },
    "id": "567qnmi7wk_M",
    "outputId": "71399ca5-5255-4fca-e3db-5386e1415825"
   },
   "outputs": [],
   "source": [
    "%matplotlib inline\n",
    "import logging\n",
    "\n",
    "import matplotlib.pyplot as plt\n",
    "import numpy as np\n",
    "import record_keeper\n",
    "import torch\n",
    "import torch.nn as nn\n",
    "import torchvision\n",
    "import umap\n",
    "from cycler import cycler\n",
    "from PIL import Image\n",
    "from torchvision import datasets, transforms\n",
    "\n",
    "import pytorch_metric_learning\n",
    "import pytorch_metric_learning.utils.logging_presets as logging_presets\n",
    "from pytorch_metric_learning import losses, miners, samplers, testers, trainers\n",
    "from pytorch_metric_learning.utils import common_functions\n",
    "from pytorch_metric_learning.utils.accuracy_calculator import AccuracyCalculator\n",
    "\n",
    "logging.getLogger().setLevel(logging.INFO)\n",
    "logging.info(\"VERSION %s\" % pytorch_metric_learning.__version__)"
   ]
  },
  {
   "cell_type": "markdown",
   "metadata": {
    "id": "Qxs6EEeR496q"
   },
   "source": [
    "## Simple model def"
   ]
  },
  {
   "cell_type": "code",
   "execution_count": null,
   "metadata": {
    "id": "zKyR6gnTwk_P"
   },
   "outputs": [],
   "source": [
    "class MLP(nn.Module):\n",
    "    # layer_sizes[0] is the dimension of the input\n",
    "    # layer_sizes[-1] is the dimension of the output\n",
    "    def __init__(self, layer_sizes, final_relu=False):\n",
    "        super().__init__()\n",
    "        layer_list = []\n",
    "        layer_sizes = [int(x) for x in layer_sizes]\n",
    "        num_layers = len(layer_sizes) - 1\n",
    "        final_relu_layer = num_layers if final_relu else num_layers - 1\n",
    "        for i in range(len(layer_sizes) - 1):\n",
    "            input_size = layer_sizes[i]\n",
    "            curr_size = layer_sizes[i + 1]\n",
    "            if i < final_relu_layer:\n",
    "                layer_list.append(nn.ReLU(inplace=False))\n",
    "            layer_list.append(nn.Linear(input_size, curr_size))\n",
    "        self.net = nn.Sequential(*layer_list)\n",
    "        self.last_linear = self.net[-1]\n",
    "\n",
    "    def forward(self, x):\n",
    "        return self.net(x)"
   ]
  },
  {
   "cell_type": "markdown",
   "metadata": {
    "id": "btjxk6zR5Cl6"
   },
   "source": [
    "## Initialize models, optimizers and image transforms"
   ]
  },
  {
   "cell_type": "code",
   "execution_count": null,
   "metadata": {
    "colab": {
     "base_uri": "https://localhost:8080/",
     "height": 84,
     "referenced_widgets": [
      "42a0b63fa9e34b219e052e80e877238f",
      "36e88519c5a54fab800ac4199d2b433f",
      "f38b3219a1d247bbb9299e4a1c414972",
      "119a2ee75263457baa89f980a22c065b",
      "500ef0f797234603b1b32c1e0183fd57",
      "3fb15ae05e4342278ace4f7166606cfa",
      "586e18cbc81443c89c93dfbde29f0e82",
      "3d602691736049989d616bda8e3f79a8"
     ]
    },
    "id": "8tzmyFS3wk_R",
    "outputId": "47778ca4-889d-4b7a-a522-4587fc254f94"
   },
   "outputs": [],
   "source": [
    "device = torch.device(\"cuda\" if torch.cuda.is_available() else \"cpu\")\n",
    "\n",
    "# Set trunk model and replace the softmax layer with an identity function\n",
    "trunk = torchvision.models.resnet18(pretrained=True)\n",
    "trunk_output_size = trunk.fc.in_features\n",
    "trunk.fc = common_functions.Identity()\n",
    "trunk = torch.nn.DataParallel(trunk.to(device))\n",
    "\n",
    "# Set embedder model. This takes in the output of the trunk and outputs 64 dimensional embeddings\n",
    "embedder = torch.nn.DataParallel(MLP([trunk_output_size, 64]).to(device))\n",
    "\n",
    "# Set the generator model. The input size must be 3*trunk_output_size and the output must be trunk_output_size.\n",
    "generator = torch.nn.DataParallel(\n",
    "    MLP([3 * trunk_output_size, trunk_output_size, trunk_output_size], final_relu=True)\n",
    ")\n",
    "\n",
    "# Set optimizers\n",
    "trunk_optimizer = torch.optim.Adam(trunk.parameters(), lr=0.00001, weight_decay=0.0001)\n",
    "embedder_optimizer = torch.optim.Adam(\n",
    "    embedder.parameters(), lr=0.0001, weight_decay=0.0001\n",
    ")\n",
    "generator_optimizer = torch.optim.Adam(\n",
    "    generator.parameters(), lr=0.0001, weight_decay=0.0001\n",
    ")\n",
    "\n",
    "# Set the image transforms\n",
    "train_transform = transforms.Compose(\n",
    "    [\n",
    "        transforms.Resize(64),\n",
    "        transforms.RandomResizedCrop(scale=(0.16, 1), ratio=(0.75, 1.33), size=64),\n",
    "        transforms.RandomHorizontalFlip(0.5),\n",
    "        transforms.ToTensor(),\n",
    "        transforms.Normalize(mean=[0.485, 0.456, 0.406], std=[0.229, 0.224, 0.225]),\n",
    "    ]\n",
    ")\n",
    "\n",
    "val_transform = transforms.Compose(\n",
    "    [\n",
    "        transforms.Resize(64),\n",
    "        transforms.ToTensor(),\n",
    "        transforms.Normalize(mean=[0.485, 0.456, 0.406], std=[0.229, 0.224, 0.225]),\n",
    "    ]\n",
    ")"
   ]
  },
  {
   "cell_type": "markdown",
   "metadata": {
    "id": "Xf0xgdWS5GqG"
   },
   "source": [
    "## Create the dataset and class-disjoint train/val splits"
   ]
  },
  {
   "cell_type": "code",
   "execution_count": null,
   "metadata": {
    "colab": {
     "base_uri": "https://localhost:8080/",
     "height": 101,
     "referenced_widgets": [
      "174a9360e503443f8c56090d3c315a0d",
      "3b7c2332ff72404bad3b3016df24ae8b",
      "6544546dc282426ca61082fa15feb2e7",
      "d2a26066f5cb4f1b8e1df5b686fa3d7f",
      "c83aa8e803a04cb0be0453667a3eb53e",
      "7e20889816814355b502efff8525918b",
      "003f0be38410495c98824f923dcb562b",
      "aa704e0982d8410b955e82d27e96db9d"
     ]
    },
    "id": "D-nmnYYAwk_T",
    "outputId": "5403040d-9684-444b-a66c-d748c135cdc3"
   },
   "outputs": [],
   "source": [
    "# Download the original datasets\n",
    "original_train = datasets.CIFAR100(\n",
    "    root=\"CIFAR100_Dataset\", train=True, transform=None, download=True\n",
    ")\n",
    "original_val = datasets.CIFAR100(\n",
    "    root=\"CIFAR100_Dataset\", train=False, transform=None, download=True\n",
    ")\n",
    "\n",
    "# This will be used to create train and val sets that are class-disjoint\n",
    "class ClassDisjointCIFAR100(torch.utils.data.Dataset):\n",
    "    def __init__(self, original_train, original_val, train, transform):\n",
    "        rule = (lambda x: x < 50) if train else (lambda x: x >= 50)\n",
    "        train_filtered_idx = [\n",
    "            i for i, x in enumerate(original_train.targets) if rule(x)\n",
    "        ]\n",
    "        val_filtered_idx = [i for i, x in enumerate(original_val.targets) if rule(x)]\n",
    "        self.data = np.concatenate(\n",
    "            [\n",
    "                original_train.data[train_filtered_idx],\n",
    "                original_val.data[val_filtered_idx],\n",
    "            ],\n",
    "            axis=0,\n",
    "        )\n",
    "        self.targets = np.concatenate(\n",
    "            [\n",
    "                np.array(original_train.targets)[train_filtered_idx],\n",
    "                np.array(original_val.targets)[val_filtered_idx],\n",
    "            ],\n",
    "            axis=0,\n",
    "        )\n",
    "        self.transform = transform\n",
    "\n",
    "    def __len__(self):\n",
    "        return len(self.data)\n",
    "\n",
    "    def __getitem__(self, index):\n",
    "        img, target = self.data[index], self.targets[index]\n",
    "        img = Image.fromarray(img)\n",
    "        if self.transform is not None:\n",
    "            img = self.transform(img)\n",
    "        return img, target\n",
    "\n",
    "\n",
    "# Class disjoint training and validation set\n",
    "train_dataset = ClassDisjointCIFAR100(\n",
    "    original_train, original_val, True, train_transform\n",
    ")\n",
    "val_dataset = ClassDisjointCIFAR100(original_train, original_val, False, val_transform)\n",
    "assert set(train_dataset.targets).isdisjoint(set(val_dataset.targets))"
   ]
  },
  {
   "cell_type": "markdown",
   "metadata": {
    "id": "r7J817Vs5LNs"
   },
   "source": [
    "##Create the loss, miner, sampler, and package them into dictionaries\n"
   ]
  },
  {
   "cell_type": "code",
   "execution_count": null,
   "metadata": {
    "id": "Kp9AC_4Dwk_V",
    "scrolled": false
   },
   "outputs": [],
   "source": [
    "# Set the loss function\n",
    "metric_loss = losses.TripletMarginLoss(margin=0.1)\n",
    "synth_loss = losses.TripletMarginLoss(margin=0.1)\n",
    "g_adv_loss = losses.TripletMarginLoss(margin=0.1)\n",
    "\n",
    "# Set the mining function\n",
    "miner = miners.MultiSimilarityMiner(epsilon=0.1)\n",
    "\n",
    "# Set the dataloader sampler\n",
    "sampler = samplers.MPerClassSampler(\n",
    "    train_dataset.targets, m=4, length_before_new_iter=len(train_dataset)\n",
    ")\n",
    "\n",
    "# Set other training parameters\n",
    "batch_size = 32\n",
    "num_epochs = 4\n",
    "\n",
    "# Package the above stuff into dictionaries.\n",
    "models = {\"trunk\": trunk, \"embedder\": embedder, \"generator\": generator}\n",
    "optimizers = {\n",
    "    \"trunk_optimizer\": trunk_optimizer,\n",
    "    \"embedder_optimizer\": embedder_optimizer,\n",
    "    \"generator_optimizer\": generator_optimizer,\n",
    "}\n",
    "loss_funcs = {\n",
    "    \"metric_loss\": metric_loss,\n",
    "    \"synth_loss\": synth_loss,\n",
    "    \"g_adv_loss\": g_adv_loss,\n",
    "}\n",
    "mining_funcs = {\"tuple_miner\": miner}\n",
    "\n",
    "# Each loss will be scaled by these weights.\n",
    "# g_hard_loss and g_reg_loss are defined inside the trainer.\n",
    "# Specifying these weights is optional.\n",
    "loss_weights = {\n",
    "    \"metric_loss\": 1,\n",
    "    \"synth_loss\": 0.1,\n",
    "    \"g_adv_loss\": 0.1,\n",
    "    \"g_hard_loss\": 0.1,\n",
    "    \"g_reg_loss\": 0.1,\n",
    "}"
   ]
  },
  {
   "cell_type": "code",
   "execution_count": null,
   "metadata": {
    "id": "hg0Gt4VXNCjO"
   },
   "outputs": [],
   "source": [
    "# Remove logs if you want to train with new parameters\n",
    "!rm -rf example_logs/ example_saved_models/ example_tensorboard/"
   ]
  },
  {
   "cell_type": "markdown",
   "metadata": {
    "id": "A9fa1VYD5Yv0"
   },
   "source": [
    "## Create the training and testing hooks"
   ]
  },
  {
   "cell_type": "code",
   "execution_count": null,
   "metadata": {
    "colab": {
     "base_uri": "https://localhost:8080/",
     "height": 35
    },
    "id": "Vq_Pd7Pd5Xi_",
    "outputId": "b7f21d7f-e508-4505-e2f9-81e496c0aadb"
   },
   "outputs": [],
   "source": [
    "record_keeper, _, _ = logging_presets.get_record_keeper(\n",
    "    \"example_logs\", \"example_tensorboard\"\n",
    ")\n",
    "hooks = logging_presets.get_hook_container(record_keeper)\n",
    "dataset_dict = {\"val\": val_dataset}\n",
    "model_folder = \"example_saved_models\"\n",
    "\n",
    "\n",
    "def visualizer_hook(umapper, umap_embeddings, labels, split_name, keyname, *args):\n",
    "    logging.info(\n",
    "        \"UMAP plot for the {} split and label set {}\".format(split_name, keyname)\n",
    "    )\n",
    "    label_set = np.unique(labels)\n",
    "    num_classes = len(label_set)\n",
    "    fig = plt.figure(figsize=(20, 15))\n",
    "    plt.gca().set_prop_cycle(\n",
    "        cycler(\n",
    "            \"color\", [plt.cm.nipy_spectral(i) for i in np.linspace(0, 0.9, num_classes)]\n",
    "        )\n",
    "    )\n",
    "    for i in range(num_classes):\n",
    "        idx = labels == label_set[i]\n",
    "        plt.plot(umap_embeddings[idx, 0], umap_embeddings[idx, 1], \".\", markersize=1)\n",
    "    plt.show()\n",
    "\n",
    "\n",
    "# Create the tester\n",
    "tester = testers.GlobalEmbeddingSpaceTester(\n",
    "    end_of_testing_hook=hooks.end_of_testing_hook,\n",
    "    visualizer=umap.UMAP(),\n",
    "    visualizer_hook=visualizer_hook,\n",
    "    dataloader_num_workers=2,\n",
    "    accuracy_calculator=AccuracyCalculator(k=\"max_bin_count\"),\n",
    ")\n",
    "\n",
    "end_of_epoch_hook = hooks.end_of_epoch_hook(\n",
    "    tester, dataset_dict, model_folder, test_interval=1, patience=1\n",
    ")"
   ]
  },
  {
   "cell_type": "markdown",
   "metadata": {
    "id": "A0D3Jvxc5iWD"
   },
   "source": [
    "## Create the trainer"
   ]
  },
  {
   "cell_type": "code",
   "execution_count": null,
   "metadata": {
    "colab": {
     "base_uri": "https://localhost:8080/",
     "height": 35
    },
    "id": "DuASrVs-wk_X",
    "outputId": "9305c342-3be2-407b-c83b-f20012048531",
    "scrolled": false
   },
   "outputs": [],
   "source": [
    "trainer = trainers.DeepAdversarialMetricLearning(\n",
    "    models=models,\n",
    "    optimizers=optimizers,\n",
    "    batch_size=batch_size,\n",
    "    loss_funcs=loss_funcs,\n",
    "    mining_funcs=mining_funcs,\n",
    "    dataset=train_dataset,\n",
    "    loss_weights=loss_weights,\n",
    "    sampler=sampler,\n",
    "    end_of_iteration_hook=hooks.end_of_iteration_hook,\n",
    "    end_of_epoch_hook=end_of_epoch_hook,\n",
    "    metric_alone_epochs=1,\n",
    "    g_alone_epochs=1,\n",
    "    g_triplets_per_anchor=100,\n",
    ")\n",
    "\n",
    "# You'll see a warning like this: WARNING:root:loss_funcs is missing \"classifier_loss\"\n",
    "# That's okay. DeepAdversarialMetricLearning allows you to add a classification network and classification loss.\n",
    "# But it's not required."
   ]
  },
  {
   "cell_type": "markdown",
   "metadata": {
    "id": "nBzB74hNSILg"
   },
   "source": [
    "## Start Tensorboard\n",
    "(Turn off adblock and other shields)"
   ]
  },
  {
   "cell_type": "code",
   "execution_count": null,
   "metadata": {
    "id": "aoJYXjOzSISK"
   },
   "outputs": [],
   "source": [
    "%load_ext tensorboard\n",
    "%tensorboard --logdir example_tensorboard"
   ]
  },
  {
   "cell_type": "markdown",
   "metadata": {
    "id": "gIq7s7jf5ksj"
   },
   "source": [
    "## Train the model"
   ]
  },
  {
   "cell_type": "code",
   "execution_count": null,
   "metadata": {
    "colab": {
     "base_uri": "https://localhost:8080/",
     "height": 1000
    },
    "id": "WHza2JJHwk_Z",
    "outputId": "35feaf7b-f18d-43bf-9878-d779c748e78d"
   },
   "outputs": [],
   "source": [
    "trainer.train(num_epochs=num_epochs)"
   ]
  },
  {
   "cell_type": "code",
   "execution_count": null,
   "metadata": {},
   "outputs": [],
   "source": []
  }
 ],
 "metadata": {
  "accelerator": "GPU",
  "colab": {
   "collapsed_sections": [],
   "name": "DeepAdversarialMetricLearning.ipynb",
   "provenance": [],
   "toc_visible": true
  },
  "kernelspec": {
   "display_name": "Python 3 (ipykernel)",
   "language": "python",
   "name": "python3"
  },
  "language_info": {
   "codemirror_mode": {
    "name": "ipython",
    "version": 3
   },
   "file_extension": ".py",
   "mimetype": "text/x-python",
   "name": "python",
   "nbconvert_exporter": "python",
   "pygments_lexer": "ipython3",
   "version": "3.8.10"
  },
  "widgets": {
   "application/vnd.jupyter.widget-state+json": {
    "003f0be38410495c98824f923dcb562b": {
     "model_module": "@jupyter-widgets/controls",
     "model_name": "DescriptionStyleModel",
     "state": {
      "_model_module": "@jupyter-widgets/controls",
      "_model_module_version": "1.5.0",
      "_model_name": "DescriptionStyleModel",
      "_view_count": null,
      "_view_module": "@jupyter-widgets/base",
      "_view_module_version": "1.2.0",
      "_view_name": "StyleView",
      "description_width": ""
     }
    },
    "119a2ee75263457baa89f980a22c065b": {
     "model_module": "@jupyter-widgets/controls",
     "model_name": "HTMLModel",
     "state": {
      "_dom_classes": [],
      "_model_module": "@jupyter-widgets/controls",
      "_model_module_version": "1.5.0",
      "_model_name": "HTMLModel",
      "_view_count": null,
      "_view_module": "@jupyter-widgets/controls",
      "_view_module_version": "1.5.0",
      "_view_name": "HTMLView",
      "description": "",
      "description_tooltip": null,
      "layout": "IPY_MODEL_3d602691736049989d616bda8e3f79a8",
      "placeholder": "​",
      "style": "IPY_MODEL_586e18cbc81443c89c93dfbde29f0e82",
      "value": " 44.7M/44.7M [00:20&lt;00:00, 2.33MB/s]"
     }
    },
    "174a9360e503443f8c56090d3c315a0d": {
     "model_module": "@jupyter-widgets/controls",
     "model_name": "HBoxModel",
     "state": {
      "_dom_classes": [],
      "_model_module": "@jupyter-widgets/controls",
      "_model_module_version": "1.5.0",
      "_model_name": "HBoxModel",
      "_view_count": null,
      "_view_module": "@jupyter-widgets/controls",
      "_view_module_version": "1.5.0",
      "_view_name": "HBoxView",
      "box_style": "",
      "children": [
       "IPY_MODEL_6544546dc282426ca61082fa15feb2e7",
       "IPY_MODEL_d2a26066f5cb4f1b8e1df5b686fa3d7f"
      ],
      "layout": "IPY_MODEL_3b7c2332ff72404bad3b3016df24ae8b"
     }
    },
    "36e88519c5a54fab800ac4199d2b433f": {
     "model_module": "@jupyter-widgets/base",
     "model_name": "LayoutModel",
     "state": {
      "_model_module": "@jupyter-widgets/base",
      "_model_module_version": "1.2.0",
      "_model_name": "LayoutModel",
      "_view_count": null,
      "_view_module": "@jupyter-widgets/base",
      "_view_module_version": "1.2.0",
      "_view_name": "LayoutView",
      "align_content": null,
      "align_items": null,
      "align_self": null,
      "border": null,
      "bottom": null,
      "display": null,
      "flex": null,
      "flex_flow": null,
      "grid_area": null,
      "grid_auto_columns": null,
      "grid_auto_flow": null,
      "grid_auto_rows": null,
      "grid_column": null,
      "grid_gap": null,
      "grid_row": null,
      "grid_template_areas": null,
      "grid_template_columns": null,
      "grid_template_rows": null,
      "height": null,
      "justify_content": null,
      "justify_items": null,
      "left": null,
      "margin": null,
      "max_height": null,
      "max_width": null,
      "min_height": null,
      "min_width": null,
      "object_fit": null,
      "object_position": null,
      "order": null,
      "overflow": null,
      "overflow_x": null,
      "overflow_y": null,
      "padding": null,
      "right": null,
      "top": null,
      "visibility": null,
      "width": null
     }
    },
    "3b7c2332ff72404bad3b3016df24ae8b": {
     "model_module": "@jupyter-widgets/base",
     "model_name": "LayoutModel",
     "state": {
      "_model_module": "@jupyter-widgets/base",
      "_model_module_version": "1.2.0",
      "_model_name": "LayoutModel",
      "_view_count": null,
      "_view_module": "@jupyter-widgets/base",
      "_view_module_version": "1.2.0",
      "_view_name": "LayoutView",
      "align_content": null,
      "align_items": null,
      "align_self": null,
      "border": null,
      "bottom": null,
      "display": null,
      "flex": null,
      "flex_flow": null,
      "grid_area": null,
      "grid_auto_columns": null,
      "grid_auto_flow": null,
      "grid_auto_rows": null,
      "grid_column": null,
      "grid_gap": null,
      "grid_row": null,
      "grid_template_areas": null,
      "grid_template_columns": null,
      "grid_template_rows": null,
      "height": null,
      "justify_content": null,
      "justify_items": null,
      "left": null,
      "margin": null,
      "max_height": null,
      "max_width": null,
      "min_height": null,
      "min_width": null,
      "object_fit": null,
      "object_position": null,
      "order": null,
      "overflow": null,
      "overflow_x": null,
      "overflow_y": null,
      "padding": null,
      "right": null,
      "top": null,
      "visibility": null,
      "width": null
     }
    },
    "3d602691736049989d616bda8e3f79a8": {
     "model_module": "@jupyter-widgets/base",
     "model_name": "LayoutModel",
     "state": {
      "_model_module": "@jupyter-widgets/base",
      "_model_module_version": "1.2.0",
      "_model_name": "LayoutModel",
      "_view_count": null,
      "_view_module": "@jupyter-widgets/base",
      "_view_module_version": "1.2.0",
      "_view_name": "LayoutView",
      "align_content": null,
      "align_items": null,
      "align_self": null,
      "border": null,
      "bottom": null,
      "display": null,
      "flex": null,
      "flex_flow": null,
      "grid_area": null,
      "grid_auto_columns": null,
      "grid_auto_flow": null,
      "grid_auto_rows": null,
      "grid_column": null,
      "grid_gap": null,
      "grid_row": null,
      "grid_template_areas": null,
      "grid_template_columns": null,
      "grid_template_rows": null,
      "height": null,
      "justify_content": null,
      "justify_items": null,
      "left": null,
      "margin": null,
      "max_height": null,
      "max_width": null,
      "min_height": null,
      "min_width": null,
      "object_fit": null,
      "object_position": null,
      "order": null,
      "overflow": null,
      "overflow_x": null,
      "overflow_y": null,
      "padding": null,
      "right": null,
      "top": null,
      "visibility": null,
      "width": null
     }
    },
    "3fb15ae05e4342278ace4f7166606cfa": {
     "model_module": "@jupyter-widgets/base",
     "model_name": "LayoutModel",
     "state": {
      "_model_module": "@jupyter-widgets/base",
      "_model_module_version": "1.2.0",
      "_model_name": "LayoutModel",
      "_view_count": null,
      "_view_module": "@jupyter-widgets/base",
      "_view_module_version": "1.2.0",
      "_view_name": "LayoutView",
      "align_content": null,
      "align_items": null,
      "align_self": null,
      "border": null,
      "bottom": null,
      "display": null,
      "flex": null,
      "flex_flow": null,
      "grid_area": null,
      "grid_auto_columns": null,
      "grid_auto_flow": null,
      "grid_auto_rows": null,
      "grid_column": null,
      "grid_gap": null,
      "grid_row": null,
      "grid_template_areas": null,
      "grid_template_columns": null,
      "grid_template_rows": null,
      "height": null,
      "justify_content": null,
      "justify_items": null,
      "left": null,
      "margin": null,
      "max_height": null,
      "max_width": null,
      "min_height": null,
      "min_width": null,
      "object_fit": null,
      "object_position": null,
      "order": null,
      "overflow": null,
      "overflow_x": null,
      "overflow_y": null,
      "padding": null,
      "right": null,
      "top": null,
      "visibility": null,
      "width": null
     }
    },
    "42a0b63fa9e34b219e052e80e877238f": {
     "model_module": "@jupyter-widgets/controls",
     "model_name": "HBoxModel",
     "state": {
      "_dom_classes": [],
      "_model_module": "@jupyter-widgets/controls",
      "_model_module_version": "1.5.0",
      "_model_name": "HBoxModel",
      "_view_count": null,
      "_view_module": "@jupyter-widgets/controls",
      "_view_module_version": "1.5.0",
      "_view_name": "HBoxView",
      "box_style": "",
      "children": [
       "IPY_MODEL_f38b3219a1d247bbb9299e4a1c414972",
       "IPY_MODEL_119a2ee75263457baa89f980a22c065b"
      ],
      "layout": "IPY_MODEL_36e88519c5a54fab800ac4199d2b433f"
     }
    },
    "500ef0f797234603b1b32c1e0183fd57": {
     "model_module": "@jupyter-widgets/controls",
     "model_name": "ProgressStyleModel",
     "state": {
      "_model_module": "@jupyter-widgets/controls",
      "_model_module_version": "1.5.0",
      "_model_name": "ProgressStyleModel",
      "_view_count": null,
      "_view_module": "@jupyter-widgets/base",
      "_view_module_version": "1.2.0",
      "_view_name": "StyleView",
      "bar_color": null,
      "description_width": "initial"
     }
    },
    "586e18cbc81443c89c93dfbde29f0e82": {
     "model_module": "@jupyter-widgets/controls",
     "model_name": "DescriptionStyleModel",
     "state": {
      "_model_module": "@jupyter-widgets/controls",
      "_model_module_version": "1.5.0",
      "_model_name": "DescriptionStyleModel",
      "_view_count": null,
      "_view_module": "@jupyter-widgets/base",
      "_view_module_version": "1.2.0",
      "_view_name": "StyleView",
      "description_width": ""
     }
    },
    "6544546dc282426ca61082fa15feb2e7": {
     "model_module": "@jupyter-widgets/controls",
     "model_name": "IntProgressModel",
     "state": {
      "_dom_classes": [],
      "_model_module": "@jupyter-widgets/controls",
      "_model_module_version": "1.5.0",
      "_model_name": "IntProgressModel",
      "_view_count": null,
      "_view_module": "@jupyter-widgets/controls",
      "_view_module_version": "1.5.0",
      "_view_name": "ProgressView",
      "bar_style": "success",
      "description": "",
      "description_tooltip": null,
      "layout": "IPY_MODEL_7e20889816814355b502efff8525918b",
      "max": 1,
      "min": 0,
      "orientation": "horizontal",
      "style": "IPY_MODEL_c83aa8e803a04cb0be0453667a3eb53e",
      "value": 1
     }
    },
    "7e20889816814355b502efff8525918b": {
     "model_module": "@jupyter-widgets/base",
     "model_name": "LayoutModel",
     "state": {
      "_model_module": "@jupyter-widgets/base",
      "_model_module_version": "1.2.0",
      "_model_name": "LayoutModel",
      "_view_count": null,
      "_view_module": "@jupyter-widgets/base",
      "_view_module_version": "1.2.0",
      "_view_name": "LayoutView",
      "align_content": null,
      "align_items": null,
      "align_self": null,
      "border": null,
      "bottom": null,
      "display": null,
      "flex": null,
      "flex_flow": null,
      "grid_area": null,
      "grid_auto_columns": null,
      "grid_auto_flow": null,
      "grid_auto_rows": null,
      "grid_column": null,
      "grid_gap": null,
      "grid_row": null,
      "grid_template_areas": null,
      "grid_template_columns": null,
      "grid_template_rows": null,
      "height": null,
      "justify_content": null,
      "justify_items": null,
      "left": null,
      "margin": null,
      "max_height": null,
      "max_width": null,
      "min_height": null,
      "min_width": null,
      "object_fit": null,
      "object_position": null,
      "order": null,
      "overflow": null,
      "overflow_x": null,
      "overflow_y": null,
      "padding": null,
      "right": null,
      "top": null,
      "visibility": null,
      "width": null
     }
    },
    "aa704e0982d8410b955e82d27e96db9d": {
     "model_module": "@jupyter-widgets/base",
     "model_name": "LayoutModel",
     "state": {
      "_model_module": "@jupyter-widgets/base",
      "_model_module_version": "1.2.0",
      "_model_name": "LayoutModel",
      "_view_count": null,
      "_view_module": "@jupyter-widgets/base",
      "_view_module_version": "1.2.0",
      "_view_name": "LayoutView",
      "align_content": null,
      "align_items": null,
      "align_self": null,
      "border": null,
      "bottom": null,
      "display": null,
      "flex": null,
      "flex_flow": null,
      "grid_area": null,
      "grid_auto_columns": null,
      "grid_auto_flow": null,
      "grid_auto_rows": null,
      "grid_column": null,
      "grid_gap": null,
      "grid_row": null,
      "grid_template_areas": null,
      "grid_template_columns": null,
      "grid_template_rows": null,
      "height": null,
      "justify_content": null,
      "justify_items": null,
      "left": null,
      "margin": null,
      "max_height": null,
      "max_width": null,
      "min_height": null,
      "min_width": null,
      "object_fit": null,
      "object_position": null,
      "order": null,
      "overflow": null,
      "overflow_x": null,
      "overflow_y": null,
      "padding": null,
      "right": null,
      "top": null,
      "visibility": null,
      "width": null
     }
    },
    "c83aa8e803a04cb0be0453667a3eb53e": {
     "model_module": "@jupyter-widgets/controls",
     "model_name": "ProgressStyleModel",
     "state": {
      "_model_module": "@jupyter-widgets/controls",
      "_model_module_version": "1.5.0",
      "_model_name": "ProgressStyleModel",
      "_view_count": null,
      "_view_module": "@jupyter-widgets/base",
      "_view_module_version": "1.2.0",
      "_view_name": "StyleView",
      "bar_color": null,
      "description_width": "initial"
     }
    },
    "d2a26066f5cb4f1b8e1df5b686fa3d7f": {
     "model_module": "@jupyter-widgets/controls",
     "model_name": "HTMLModel",
     "state": {
      "_dom_classes": [],
      "_model_module": "@jupyter-widgets/controls",
      "_model_module_version": "1.5.0",
      "_model_name": "HTMLModel",
      "_view_count": null,
      "_view_module": "@jupyter-widgets/controls",
      "_view_module_version": "1.5.0",
      "_view_name": "HTMLView",
      "description": "",
      "description_tooltip": null,
      "layout": "IPY_MODEL_aa704e0982d8410b955e82d27e96db9d",
      "placeholder": "​",
      "style": "IPY_MODEL_003f0be38410495c98824f923dcb562b",
      "value": " 169009152/? [00:08&lt;00:00, 19308091.94it/s]"
     }
    },
    "f38b3219a1d247bbb9299e4a1c414972": {
     "model_module": "@jupyter-widgets/controls",
     "model_name": "IntProgressModel",
     "state": {
      "_dom_classes": [],
      "_model_module": "@jupyter-widgets/controls",
      "_model_module_version": "1.5.0",
      "_model_name": "IntProgressModel",
      "_view_count": null,
      "_view_module": "@jupyter-widgets/controls",
      "_view_module_version": "1.5.0",
      "_view_name": "ProgressView",
      "bar_style": "success",
      "description": "100%",
      "description_tooltip": null,
      "layout": "IPY_MODEL_3fb15ae05e4342278ace4f7166606cfa",
      "max": 46827520,
      "min": 0,
      "orientation": "horizontal",
      "style": "IPY_MODEL_500ef0f797234603b1b32c1e0183fd57",
      "value": 46827520
     }
    }
   }
  }
 },
 "nbformat": 4,
 "nbformat_minor": 1
}
